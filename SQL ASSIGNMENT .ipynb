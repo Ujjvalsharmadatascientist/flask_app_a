{
 "cells": [
  {
   "cell_type": "raw",
   "id": "fec122a1-b397-43be-a33e-1bee0be66bec",
   "metadata": {},
   "source": [
    "Q1. What is a database? Differentiate between SQL and NoSQL databases."
   ]
  },
  {
   "cell_type": "raw",
   "id": "f070d695-2db4-4cd3-82d5-1ad220408a1c",
   "metadata": {},
   "source": [
    "ANS - A database is a collection of organized information that stores, maintains, and provides access to data. Databases are used to process transactions, which involves capturing, storing, and managing operational data in real time\n",
    "\n",
    "             SQL\t                                                                               NoSQL\n",
    "RELATIONAL DATABASE MANAGEMENT SYSTEM (RDBMS)\t                                Non-relational or distributed database system.\n",
    "These databases have fixed or static or predefined schema\t                    They have a dynamic schema\n",
    "These databases are not suited for hierarchical data storage.\t                These databases are best suited for hierarchical data storage.\n",
    "These databases are best suited for complex queries                         \tThese databases are not so good for complex queries\n",
    "Vertically Scalable\tHorizontally scalable"
   ]
  },
  {
   "cell_type": "raw",
   "id": "3fdf5f66-9d48-4b7a-909c-3cc6ff98e8c2",
   "metadata": {},
   "source": [
    "Q2. What is DDL? Explain why CREATE, DROP, ALTER, and TRUNCATE are used with an example."
   ]
  },
  {
   "cell_type": "raw",
   "id": "a851ace8-6ce6-47d2-b360-96beced6d708",
   "metadata": {},
   "source": [
    "ANS - DDL (Data Definition Language) is a type of SQL command used to define data structures and modify data.\n",
    "CREATE: CREATE TABLE TestTable AS\n",
    "DROP  : DROP TABLE Shippers;\n",
    "ALTER : COUSTOMER \n",
    "TRUNCATE: TRUNCATE TABLE Categories;"
   ]
  },
  {
   "cell_type": "raw",
   "id": "885ca65f-ec43-4adc-9d0e-20adbebeeb05",
   "metadata": {},
   "source": [
    "Q3. What is DML? Explain INSERT, UPDATE, and DELETE with an example."
   ]
  },
  {
   "cell_type": "raw",
   "id": "71d19ca8-4900-4af3-83d4-b19e67fa631f",
   "metadata": {},
   "source": [
    "ANS - Data Manipulation Language (DML) is a computer programming language that allows users to add, delete, and change data in a database.\n",
    "INSERT: Inserts one or more new records into the table in the SQL database\n",
    "UPDATE: Updates or changes the existing data or records in a table in the SQL database\n",
    "DELETE:eletes all the existing records and the allocated spaces from a table in the SQL "
   ]
  },
  {
   "cell_type": "raw",
   "id": "c14182ab-3f62-4406-9415-491f3f663679",
   "metadata": {},
   "source": [
    "Q4. What is DQL? Explain SELECT with an example.\n",
    "ANS-DQL statements are used for performing queries on the data within schema objects\n",
    "SELECT :column1, column2, ...FROM table_name<br>WHERE condition;"
   ]
  },
  {
   "cell_type": "raw",
   "id": "11e96cb7-691d-428a-a75b-5939b3491d29",
   "metadata": {},
   "source": [
    "Q5. Explain Primary Key and Foreign Key.\n",
    "ANS- The primary key is a unique or non-null key that uniquely identifies every record in a table or relation. Each database needs a unique identifier for every row of a table, and the primary key plays a vital role in identifying rows in the table uniquely. The primary key column can't store duplicate values. It is also called a minimal super key; therefore, we cannot specify more than one primary key in any relationship."
   ]
  },
  {
   "cell_type": "raw",
   "id": "e1c034d6-a753-49a7-8d08-ecc8709dd14e",
   "metadata": {},
   "source": [
    "Q6. Write a python code to connect MySQL to python. Explain the cursor() and execute() method.\n",
    "ANS - import mysql.connector\n",
    "# import mysql.connector\n",
    "#create user 'user'@'%' identified by 'password'\n",
    "mydb = mysql.connector.connect(\n",
    "  host=\"localhost\",\n",
    "  user=\"abc\",\n",
    "  password=\"password\"\n",
    ")\n",
    "print(mydb)\n",
    "mycursor = mydb.cursor()\n",
    "mycursor.execute(\"SHOW DATABASES\")\n",
    "for x in mycursor:\n",
    "  print(x)"
   ]
  },
  {
   "cell_type": "raw",
   "id": "aa99b44a-0df0-4480-a95b-e9422ebead24",
   "metadata": {},
   "source": [
    "Q7. Give the order of execution of SQL clauses in an SQL query."
   ]
  },
  {
   "cell_type": "raw",
   "id": "58d60d4c-0571-462c-9681-b3c2af467496",
   "metadata": {},
   "source": [
    "ANS - SELECT customer_ID, SUM(total_amount) AS “Total”\n",
    "FROM orders\n",
    "WHERE order_date BETWEEN ‘2022-01-01’ AND ‘2022-03-31’\n",
    "AND customer_city = ‘New York’\n",
    "GROUP BY customer_id\n",
    "ORDER BY Total DESC"
   ]
  },
  {
   "cell_type": "code",
   "execution_count": null,
   "id": "bfc7649b-a61c-4c51-a4f7-a2562bd02843",
   "metadata": {},
   "outputs": [],
   "source": []
  }
 ],
 "metadata": {
  "kernelspec": {
   "display_name": "Python 3 (ipykernel)",
   "language": "python",
   "name": "python3"
  },
  "language_info": {
   "codemirror_mode": {
    "name": "ipython",
    "version": 3
   },
   "file_extension": ".py",
   "mimetype": "text/x-python",
   "name": "python",
   "nbconvert_exporter": "python",
   "pygments_lexer": "ipython3",
   "version": "3.10.8"
  }
 },
 "nbformat": 4,
 "nbformat_minor": 5
}
