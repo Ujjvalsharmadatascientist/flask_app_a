{
 "cells": [
  {
   "cell_type": "raw",
   "id": "0fd6129d-a369-45b0-93e4-66fbd2433b88",
   "metadata": {},
   "source": [
    "Q1. What is MongoDB? Explain non-relational databases in short. In which scenarios it is preferred to use\n",
    "MongoDB over SQL databases?\n",
    "ANS - MongoDB, the most popular NoSQL database, is an open-source document-oriented database.The term ‘NoSQL’ means ‘non-relational’. It means that MongoDB isn’t based on the table-like relational database structure but provides an altogether different mechanism for storage and retrieval of data. This format of storage is called BSON ( similar to JSON format).But if your “data is unstructured and complex, or if you can't pre-define your schema, you'd better opt for MongoDB.” And what is more, if you need to handle a large volume of data and store it as documents — MongoDB will help you to meet the challenges "
   ]
  },
  {
   "cell_type": "raw",
   "id": "1dbf7afa-e4c9-40a6-bcc5-1e8fda74d700",
   "metadata": {},
   "source": [
    "Q2. State and Explain the features of MongoDB.\n",
    "ANS -Schema-less Database,Document Oriented,Indexing:,Scalability:,Replication:Aggregation:High Performance: \n"
   ]
  },
  {
   "cell_type": "raw",
   "id": "e61d2ee9-1d83-4daf-a396-290e95a1638a",
   "metadata": {},
   "source": [
    "Q3. Write a code to connect MongoDB to Python. Also, create a database and a collection in MongoDB."
   ]
  },
  {
   "cell_type": "code",
   "execution_count": 5,
   "id": "966e26ff-3d00-4ebb-8db5-bfcce683a56d",
   "metadata": {},
   "outputs": [
    {
     "name": "stdout",
     "output_type": "stream",
     "text": [
      "The database and collection have been created successfully.\n"
     ]
    }
   ],
   "source": [
    "# Import the MongoClient class from the pymongo library.\n",
    "from pymongo import MongoClient\n",
    "\n",
    "# Create a MongoClient object. This object will be used to connect to the MongoDB server.\n",
    "client = MongoClient()\n",
    "\n",
    "# Specify the name of the database that you want to create.\n",
    "database_name = \"my_database\"\n",
    "\n",
    "# Get the database instance.\n",
    "database = client[database_name]\n",
    "\n",
    "# Specify the name of the collection that you want to create.\n",
    "collection_name = \"my_collection\"\n",
    "\n",
    "# Get the collection instance.\n",
    "collection = database[collection_name]\n",
    "\n",
    "# Print a message to confirm that the database and collection have been created.\n",
    "print(\"The database and collection have been created successfully.\")"
   ]
  },
  {
   "cell_type": "code",
   "execution_count": 2,
   "id": "56e8ae46-f60c-4662-8619-ed3e4395cbd1",
   "metadata": {},
   "outputs": [
    {
     "name": "stdout",
     "output_type": "stream",
     "text": [
      "Collecting pymongo\n",
      "  Downloading pymongo-4.7.1-cp310-cp310-manylinux_2_17_x86_64.manylinux2014_x86_64.whl (669 kB)\n",
      "\u001b[2K     \u001b[90m━━━━━━━━━━━━━━━━━━━━━━━━━━━━━━━━━━━━━━\u001b[0m \u001b[32m670.0/670.0 kB\u001b[0m \u001b[31m16.1 MB/s\u001b[0m eta \u001b[36m0:00:00\u001b[0m00:01\u001b[0m\n",
      "\u001b[?25hCollecting dnspython<3.0.0,>=1.16.0\n",
      "  Downloading dnspython-2.6.1-py3-none-any.whl (307 kB)\n",
      "\u001b[2K     \u001b[90m━━━━━━━━━━━━━━━━━━━━━━━━━━━━━━━━━━━━━━\u001b[0m \u001b[32m307.7/307.7 kB\u001b[0m \u001b[31m36.4 MB/s\u001b[0m eta \u001b[36m0:00:00\u001b[0m\n",
      "\u001b[?25hInstalling collected packages: dnspython, pymongo\n",
      "Successfully installed dnspython-2.6.1 pymongo-4.7.1\n",
      "Note: you may need to restart the kernel to use updated packages.\n"
     ]
    }
   ],
   "source": [
    "pip install pymongo\n"
   ]
  },
  {
   "cell_type": "code",
   "execution_count": 7,
   "id": "37cb00e6-0b06-470e-b16d-7d51d6dc66f6",
   "metadata": {},
   "outputs": [
    {
     "data": {
      "text/plain": [
       "MongoClient(host=['localhost:27017'], document_class=dict, tz_aware=False, connect=True)"
      ]
     },
     "execution_count": 7,
     "metadata": {},
     "output_type": "execute_result"
    }
   ],
   "source": [
    "client\n"
   ]
  },
  {
   "cell_type": "code",
   "execution_count": 8,
   "id": "14711bd2-63f5-4c1c-8b7c-acba38b2f363",
   "metadata": {},
   "outputs": [
    {
     "data": {
      "text/plain": [
       "Database(MongoClient(host=['localhost:27017'], document_class=dict, tz_aware=False, connect=True), 'pwskills')"
      ]
     },
     "execution_count": 8,
     "metadata": {},
     "output_type": "execute_result"
    }
   ],
   "source": [
    "client['pwskills']"
   ]
  },
  {
   "cell_type": "code",
   "execution_count": 10,
   "id": "41c78be8-c6a8-4517-8c53-970365ca1413",
   "metadata": {},
   "outputs": [],
   "source": [
    "data = {\"name\" : \"sudh\" ,\n",
    "        \"class\" :\"data science masters \" ,\n",
    "        \"time\" : \"flexi\"}"
   ]
  },
  {
   "cell_type": "code",
   "execution_count": 11,
   "id": "4f032a82-9ac6-43de-99d4-1103f5600699",
   "metadata": {},
   "outputs": [],
   "source": [
    "call_pwskills = client[\"my_record\"]"
   ]
  },
  {
   "cell_type": "code",
   "execution_count": 14,
   "id": "32f3f7bf-103e-4d58-8d6a-b39e20a44ed6",
   "metadata": {},
   "outputs": [
    {
     "ename": "NameError",
     "evalue": "name 'call_pwskills' is not defined",
     "output_type": "error",
     "traceback": [
      "\u001b[0;31m---------------------------------------------------------------------------\u001b[0m",
      "\u001b[0;31mNameError\u001b[0m                                 Traceback (most recent call last)",
      "Cell \u001b[0;32mIn[14], line 1\u001b[0m\n\u001b[0;32m----> 1\u001b[0m \u001b[43mcall_pwskills\u001b[49m\u001b[38;5;241m.\u001b[39minsert_one(data)\n",
      "\u001b[0;31mNameError\u001b[0m: name 'call_pwskills' is not defined"
     ]
    }
   ],
   "source": [
    "call_pwskills.insert_one(data)"
   ]
  },
  {
   "cell_type": "raw",
   "id": "59bd4b46-4476-4c5c-bd98-8da4bb8dc9d3",
   "metadata": {},
   "source": [
    "Q5. Explain how you can use the find() method to query the MongoDB database. Write a simple code to\n",
    "demonstrate this.\n",
    "ANS -5 The find () method in MongoDB selects documents in a collection that matches the specified conditions and returns a cursor to the selected documents. A cursor means a pointer that points to a document, when we use the find() method it returns a pointer on the selected documents and returns one by one"
   ]
  },
  {
   "cell_type": "code",
   "execution_count": null,
   "id": "7243dc9a-2760-4135-99b8-c39267c4c2d2",
   "metadata": {},
   "outputs": [],
   "source": [
    "{'_id': ObjectId('63eef93f07ba7bd48aa09a98'),\n",
    " 'name': 'sudh',\n",
    " 'class': 'data science masters ',\n",
    " 'time': 'flexi'}\n"
   ]
  },
  {
   "cell_type": "code",
   "execution_count": null,
   "id": "df244e08-0277-440b-9f67-637d4c27f94e",
   "metadata": {},
   "outputs": [],
   "source": [
    "for i in coll_pwskills.find():\n",
    "    print(i)"
   ]
  },
  {
   "cell_type": "code",
   "execution_count": null,
   "id": "65566876-3822-474e-9379-28b41e5def7c",
   "metadata": {},
   "outputs": [],
   "source": [
    "{'_id': ObjectId('63eef93f07ba7bd48aa09a98'), 'name': 'sudh', 'class': 'data science masters ', 'time': 'flexi'}\n",
    "{'_id': ObjectId('63eef9ea07ba7bd48aa09a99'), 'mail_id': 'sudh@gmail.com', 'phone_number ': 2323424324, 'addr': 'bangalore'}\n",
    "{'_id': ObjectId('63eefaf107ba7bd48aa09a9a'), 'name': 'Amy', 'address': 'Apple st 652'}\n",
    "{'_id': ObjectId('63eefaf107ba7bd48aa09a9b'), 'name': 'Hannah', 'address': 'Mountain 21'}\n",
    "{'_id': ObjectId('63eefaf107ba7bd48aa09a9c'), 'name': 'Michael', 'address': 'Valley 345'}\n",
    "{'_id': ObjectId('63eefaf107ba7bd48aa09a9d'), 'name': 'Sandy', 'address': 'Ocean blvd 2'}\n",
    "{'_id': ObjectId('63eefaf107ba7bd48aa09a9e'), 'name': 'Betty', 'address': 'Green Grass 1'}\n",
    "{'_id': ObjectId('63eefaf107ba7bd48aa09a9f'), 'name': 'Richard', 'address': 'Sky st 331'}\n",
    "{'_id': ObjectId('63eefaf107ba7bd48aa09aa0'), 'name': 'Susan', 'address': 'One way 98'}\n",
    "{'_id': ObjectId('63eefaf107ba7bd48aa09aa1'), 'name': 'Vicky', 'address': 'Yellow Garden 2'}\n",
    "{'_id': ObjectId('63eefaf107ba7bd48aa09aa2'), 'name': 'Ben', 'address': 'Park Lane 38'}\n",
    "{'_id': ObjectId('63eefaf107ba7bd48aa09aa3'), 'name': 'William', 'address': 'Central st 954'}\n",
    "{'_id': ObjectId('63eefaf107ba7bd48aa09aa4'), 'name': 'Chuck', 'address': 'Main Road 989'}\n",
    "{'_id': ObjectId('63eefaf107ba7bd48aa09aa5'), 'name': 'Viola', 'address': 'Sideway 1633'}\n",
    "{'_id': ObjectId('63eefb4f07ba7bd48aa09aa6'), 'name': 'notebook', 'qty': 50, 'rating': [{'score': 8}, {'score': 9}], 'size': {'height': 11, 'width': 8.5, 'unit': 'in'}, 'status': 'A', 'tags': ['college-ruled', 'perforated']}\n",
    "{'_id': ObjectId('63eefbcd07ba7bd48aa09aa7'), 'companyName': 'iNeuron', 'product': 'Affordable AI', 'courseOffered': 'Machine Learning with Deployment'}\n",
    "{'_id': ObjectId('63eefbcd07ba7bd48aa09aa8'), 'companyName': 'iNeuron', 'product': 'Affordable AI', 'courseOffered': 'Deep Learning for NLP and Computer vision'}\n",
    "{'_id': ObjectId('63eefbcd07ba7bd48aa09aa9'), 'companyName': 'iNeuron', 'product': 'Master Program', 'courseOffered': 'Data Science Masters Program'}"
   ]
  },
  {
   "cell_type": "raw",
   "id": "dc64f72f-bb31-44db-8f41-efebec5aa543",
   "metadata": {},
   "source": [
    "Q6. Explain the sort() method. Give an example to demonstrate sorting in MongoDB."
   ]
  },
  {
   "cell_type": "code",
   "execution_count": null,
   "id": "3eb816fd-868b-4062-8f75-b0b96b7080f3",
   "metadata": {},
   "outputs": [],
   "source": [
    "db.Collection_Name.sort({field_name:1 or -1})"
   ]
  },
  {
   "cell_type": "code",
   "execution_count": null,
   "id": "ba4ffd32-a547-4416-8175-2db6615c33db",
   "metadata": {},
   "outputs": [],
   "source": []
  }
 ],
 "metadata": {
  "kernelspec": {
   "display_name": "Python 3 (ipykernel)",
   "language": "python",
   "name": "python3"
  },
  "language_info": {
   "codemirror_mode": {
    "name": "ipython",
    "version": 3
   },
   "file_extension": ".py",
   "mimetype": "text/x-python",
   "name": "python",
   "nbconvert_exporter": "python",
   "pygments_lexer": "ipython3",
   "version": "3.10.8"
  }
 },
 "nbformat": 4,
 "nbformat_minor": 5
}
